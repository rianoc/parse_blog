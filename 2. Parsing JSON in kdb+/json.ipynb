{
 "cells": [
  {
   "cell_type": "markdown",
   "metadata": {},
   "source": [
    "## JSON\n",
    "\n",
    "JSON can hold more complex structures than CSV files which is useful.\n",
    "\n",
    "However this can also introduce some added complexity during ingestion.\n",
    "\n",
    "### Datatypes\n",
    "\n",
    "Data brought from JSON to kdb+ will only ever come as one of:\n",
    "\n",
    "* String\n",
    "* Float\n",
    "* Boolean\n",
    "\n",
    "This means as well as parsing the data from JSON often we will want to cast to a more suitable datatype.\n",
    "\n",
    "Take this example converting a long in kfb+ to JSON using `.j.j` and parsing it back with `.j.k`"
   ]
  },
  {
   "cell_type": "code",
   "execution_count": 1,
   "metadata": {},
   "outputs": [
    {
     "data": {
      "text/plain": [
       "0b\r\n"
      ]
     },
     "execution_count": 1,
     "metadata": {},
     "output_type": "execute_result"
    }
   ],
   "source": [
    "//Roundtrip fails - the input does not equal the output\n",
    "6~.j.k .j.j 6"
   ]
  },
  {
   "cell_type": "code",
   "execution_count": 2,
   "metadata": {},
   "outputs": [
    {
     "data": {
      "text/plain": [
       "6f\r\n"
      ]
     },
     "execution_count": 2,
     "metadata": {},
     "output_type": "execute_result"
    }
   ],
   "source": [
    "//The problem comes from all numerics in JSON being converted to floats\n",
    ".j.k .j.j 6"
   ]
  },
  {
   "cell_type": "markdown",
   "metadata": {},
   "source": [
    "* [https://code.kx.com/q/ref/dotj/](https://code.kx.com/q/ref/dotj/)"
   ]
  },
  {
   "cell_type": "markdown",
   "metadata": {},
   "source": [
    "### JSON table encoding"
   ]
  },
  {
   "cell_type": "code",
   "execution_count": 3,
   "metadata": {},
   "outputs": [
    {
     "data": {
      "text/plain": [
       "longCol floatCol symbolCol stringCol dateCol    timeCol     \r\n",
       "------------------------------------------------------------\r\n",
       "1       4        b         \"bb\"      2018.11.23 00:01:00.000\r\n",
       "2       5        h         \"dd\"      2018.11.23 00:01:00.003\r\n"
      ]
     },
     "execution_count": 3,
     "metadata": {},
     "output_type": "execute_result"
    }
   ],
   "source": [
    "//Create a sample table\n",
    "tab:([] longCol:1 2;\n",
    "        floatCol:4 5f;\n",
    "        symbolCol:`b`h;\n",
    "        stringCol:(\"bb\";\"dd\");\n",
    "        dateCol:2018.11.23 2018.11.23;\n",
    "        timeCol:00:01:00.000 00:01:00.003)\n",
    "tab"
   ]
  },
  {
   "cell_type": "code",
   "execution_count": 4,
   "metadata": {},
   "outputs": [
    {
     "data": {
      "text/plain": [
       "c        | t f a\r\n",
       "---------| -----\r\n",
       "longCol  | j    \r\n",
       "floatCol | f    \r\n",
       "symbolCol| s    \r\n",
       "stringCol| C    \r\n",
       "dateCol  | d    \r\n",
       "timeCol  | t    \r\n"
      ]
     },
     "execution_count": 4,
     "metadata": {},
     "output_type": "execute_result"
    }
   ],
   "source": [
    "meta tab"
   ]
  },
  {
   "cell_type": "code",
   "execution_count": 4,
   "metadata": {},
   "outputs": [
    {
     "data": {
      "text/plain": [
       "longCol floatCol symbolCol stringCol dateCol      timeCol       \r\n",
       "----------------------------------------------------------------\r\n",
       "1       4        ,\"b\"      \"bb\"      \"2018-11-23\" \"00:01:00.000\"\r\n",
       "2       5        ,\"h\"      \"dd\"      \"2018-11-23\" \"00:01:00.003\"\r\n"
      ]
     },
     "execution_count": 4,
     "metadata": {},
     "output_type": "execute_result"
    },
    {
     "data": {
      "text/plain": [
       "c        | t f a\r\n",
       "---------| -----\r\n",
       "longCol  | f    \r\n",
       "floatCol | f    \r\n",
       "symbolCol| C    \r\n",
       "stringCol| C    \r\n",
       "dateCol  | C    \r\n",
       "timeCol  | C    \r\n"
      ]
     },
     "execution_count": 4,
     "metadata": {},
     "output_type": "execute_result"
    }
   ],
   "source": [
    "//Round trip to JSON results in many differences\n",
    ".j.k .j.j tab\n",
    "meta .j.k .j.j tab"
   ]
  },
  {
   "cell_type": "code",
   "execution_count": 7,
   "metadata": {},
   "outputs": [
    {
     "data": {
      "text/plain": [
       "longCol floatCol symbolCol stringCol dateCol    timeCol     \r\n",
       "------------------------------------------------------------\r\n",
       "1       4        b         \"bb\"      2018.11.23 00:01:00.000\r\n",
       "2       5        h         \"dd\"      2018.11.23 00:01:00.003\r\n"
      ]
     },
     "execution_count": 7,
     "metadata": {},
     "output_type": "execute_result"
    },
    {
     "data": {
      "text/plain": [
       "1b\r\n"
      ]
     },
     "execution_count": 7,
     "metadata": {},
     "output_type": "execute_result"
    }
   ],
   "source": [
    "//Use lower case casts on numerics and captial case tok on string type data\n",
    "//* will leave a column untouched\n",
    "flip \"j*S*DT\"$flip .j.k .j.j tab\n",
    "tab~flip \"j*S*DT\"$flip .j.k .j.j tab"
   ]
  },
  {
   "cell_type": "markdown",
   "metadata": {},
   "source": [
    "Instead of using `flip` and having to specify `*` to leave a column untouched we can write a helper function.\n",
    "\n",
    "We can pass it a dictionary with the rules we need to perform"
   ]
  },
  {
   "cell_type": "code",
   "execution_count": 22,
   "metadata": {},
   "outputs": [
    {
     "data": {
      "text/plain": [
       "1b\r\n"
      ]
     },
     "execution_count": 22,
     "metadata": {},
     "output_type": "execute_result"
    }
   ],
   "source": [
    "helper:{[t;d] ![t;();0b;key[d]!{($;x;y)}'[value d;key d]]}\n",
    "\n",
    "castRules:`longCol`symbolCol`dateCol`timeCol!\"jSDT\"\n",
    "\n",
    "tab~helper[;castRules] .j.k .j.j tab"
   ]
  },
  {
   "cell_type": "markdown",
   "metadata": {},
   "source": [
    "Rather than force the use of `$` we can make a more general helper which can be based a monodic function per column "
   ]
  },
  {
   "cell_type": "code",
   "execution_count": 27,
   "metadata": {},
   "outputs": [
    {
     "data": {
      "text/plain": [
       "longCol floatCol symbolCol stringCol dateCol    timeCol     \r\n",
       "------------------------------------------------------------\r\n",
       "-1      4        B         \"bb\"      2018.11.23 00:01:00.000\r\n",
       "-2      5        H         \"dd\"      2018.11.23 00:01:00.003\r\n"
      ]
     },
     "execution_count": 27,
     "metadata": {},
     "output_type": "execute_result"
    }
   ],
   "source": [
    "generalHelper:{[t;d] ![t;();0b;key[d]!{(x;y)}'[value d;key d]]}\n",
    "\n",
    "castRules:`longCol`symbolCol`dateCol`timeCol!({neg \"j\"$ x};{`$upper x};\"D\"$;\"T\"$)\n",
    "\n",
    "generalHelper[;castRules] .j.k .j.j tab"
   ]
  },
  {
   "cell_type": "markdown",
   "metadata": {},
   "source": [
    "* [https://code.kx.com/q/ref/casting/#cast](https://code.kx.com/q/ref/casting/#cast)\n",
    "* [https://code.kx.com/q/ref/casting/#tok](https://code.kx.com/q/ref/casting/#tok)"
   ]
  },
  {
   "cell_type": "markdown",
   "metadata": {},
   "source": [
    "### Field based JSON encoding\n",
    "\n",
    "JSON can hold more complex data structures than csv\n",
    "\n",
    "One common example are dictionaries, useful for storing sparse datasets which do not make sense to have each key becoming a new column."
   ]
  },
  {
   "cell_type": "code",
   "execution_count": 28,
   "metadata": {},
   "outputs": [
    {
     "data": {
      "text/plain": [
       "\"{\\\"data\\\":\\\"26cd02c57f9db87b1df9f2e7bb20cc7b\\\",\\\"expiry\\\":1527796725,\\\"requestID\\\":[\\\"b4a566eb-2529-5cf4-1327-857e3d73653e\\\"]}\"\r\n",
       "\"{\\\"result\\\":\\\"success\\\",\\\"message\\\":\\\"success\\\",\\\"receipt\\\":[123154,4646646],\\\"requestID\\\":[\\\"b4a566eb-2529-5cf4-1327-857e3d73653e\\\"]}\"\r\n",
       "\"{\\\"receipt\\\":[12345678,98751466],\\\"requestID\\\":[\\\"b4a566eb-2529-5cf4-1327-857e3d73653e\\\"]}\"\r\n",
       "\"{\\\"data\\\":\\\"26cd02c57f9db87b1df9f2e7bb20cc7b\\\",\\\"requestID\\\":[\\\"b4a566eb-2529-5cf4-1327-857e3d73653e\\\"]}\"\r\n",
       "\"{\\\"receipt\\\":[12345678,98751466],\\\"requestID\\\":[\\\"b4a566eb-2529-5cf4-1327-857e3d73653e\\\"]}\"\r\n",
       "\"{\\\"listSize\\\":2,\\\"list\\\":\\\"lzplogjxokyetaeflilquziatzpjagsginnajfpbkomfancdmhmumxhazblddhcc\\\"}\"\r\n",
       "\"{\\\"requestID\\\":[\\\"b4a566eb-2529-5cf4-1327-857e3d73653e\\\"]}\"\r\n"
      ]
     },
     "execution_count": 28,
     "metadata": {},
     "output_type": "execute_result"
    }
   ],
   "source": [
    "\\c 25 200\n",
    "read0 `:sample.json"
   ]
  },
  {
   "cell_type": "markdown",
   "metadata": {},
   "source": [
    "One way to manage these items may be to create a utility which will cast any dictionary using `key` values to control casting rules.\n",
    "\n",
    "This can allow more complex parsing rules for each field."
   ]
  },
  {
   "cell_type": "code",
   "execution_count": 29,
   "metadata": {},
   "outputs": [],
   "source": [
    "//Converts JSON to q with rules per key\n",
    "decode:{[j]k:.j.k j;(key k)!j2k[key k]@'value k}\n",
    "\n",
    "//Converts q to JSON with rules per key\n",
    "encode:{[k].j.j (key k)!k2j[key k]@'value k}\n",
    "\n",
    "//Rules for JSON to q conversion\n",
    "j2k:(enlist `)!enlist (::);\n",
    "\n",
    "j2k[`expiry]:{0D00:00:01*`long$x};\n",
    "j2k[`result]:`$;\n",
    "j2k[`receipt]:`long$;\n",
    "j2k[`id]:{\"G\"$first x};\n",
    "j2k[`listSize]:`long$;\n",
    "j2k[`data]:cut[32];\n",
    "j2k[`blockCount]:`long$;\n",
    "j2k[`blocks]:raze;\n",
    "\n",
    "//Rules for q to JSON conversion\n",
    "k2j:(enlist `)!enlist (::);\n",
    "\n",
    "k2j[`expiry]:{`long$%[x;0D00:00:01]};\n",
    "k2j[`result]:(::);\n",
    "k2j[`receipt]:(::);\n",
    "k2j[`id]:enlist;\n",
    "k2j[`listSize]:(::);\n",
    "k2j[`data]:raze;\n",
    "k2j[`blocks]:(::);"
   ]
  },
  {
   "cell_type": "code",
   "execution_count": 30,
   "metadata": {},
   "outputs": [
    {
     "name": "stdout",
     "output_type": "stream",
     "text": [
      "data     | \"26cd02c57f9db87b1df9f2e7bb20cc7b\"\r\n",
      "expiry   | 1.527797e+009\r\n",
      "requestID| ,\"b4a566eb-2529-5cf4-1327-857e3d73653e\"\r\n",
      "result   | \"success\"\r\n",
      "message  | \"success\"\r\n",
      "receipt  | 123154 4646646f\r\n",
      "requestID| ,\"b4a566eb-2529-5cf4-1327-857e3d73653e\"\r\n",
      "receipt  | 1.234568e+007 9.875147e+007\r\n",
      "requestID| ,\"b4a566eb-2529-5cf4-1327-857e3d73653e\"\r\n",
      "data     | \"26cd02c57f9db87b1df9f2e7bb20cc7b\"\r\n",
      "requestID| ,\"b4a566eb-2529-5cf4-1327-857e3d73653e\"\r\n",
      "receipt  | 1.234568e+007 9.875147e+007\r\n",
      "requestID| ,\"b4a566eb-2529-5cf4-1327-857e3d73653e\"\r\n",
      "listSize| 2f\r\n",
      "list    | \"lzplogjxokyetaeflilquziatzpjagsginnajfpbkomfancdmhmumxhazblddhcc\"\r\n",
      "requestID| \"b4a566eb-2529-5cf4-1327-857e3d73653e\"\r\n"
     ]
    }
   ],
   "source": [
    "//Using default .j.k our structures are not transferred as we wish\n",
    "{show .j.k x} each read0 `:sample.json;"
   ]
  },
  {
   "cell_type": "code",
   "execution_count": 4,
   "metadata": {},
   "outputs": [
    {
     "name": "stdout",
     "output_type": "stream",
     "text": [
      "data     | ,\"26cd02c57f9db87b1df9f2e7bb20cc7b\"\r\n",
      "expiry   | 17682D19:58:45.000000000\r\n",
      "requestID| ,\"b4a566eb-2529-5cf4-1327-857e3d73653e\"\r\n",
      "result   | `success\r\n",
      "message  | \"success\"\r\n",
      "receipt  | 123154 4646646\r\n",
      "requestID| ,\"b4a566eb-2529-5cf4-1327-857e3d73653e\"\r\n",
      "receipt  | 12345678 98751466\r\n",
      "requestID| ,\"b4a566eb-2529-5cf4-1327-857e3d73653e\"\r\n",
      "data     | \"26cd02c57f9db87b1df9f2e7bb20cc7b\"    \r\n",
      "requestID| \"b4a566eb-2529-5cf4-1327-857e3d73653e\"\r\n",
      "receipt  | 12345678 98751466\r\n",
      "requestID| ,\"b4a566eb-2529-5cf4-1327-857e3d73653e\"\r\n",
      "listSize| 2\r\n",
      "list    | \"lzplogjxokyetaeflilquziatzpjagsginnajfpbkomfancdmhmumxhazblddhcc\"\r\n",
      "requestID| \"b4a566eb-2529-5cf4-1327-857e3d73653e\"\r\n"
     ]
    }
   ],
   "source": [
    "//Using decode utility captures complex structures\n",
    "{show decode x} each read0 `:sample.json;"
   ]
  },
  {
   "cell_type": "code",
   "execution_count": 31,
   "metadata": {},
   "outputs": [
    {
     "data": {
      "text/plain": [
       "1b\r\n"
      ]
     },
     "execution_count": 31,
     "metadata": {},
     "output_type": "execute_result"
    }
   ],
   "source": [
    "//The encode utility allows us to roundtrip\n",
    "{sample~{encode decode x} each sample:read0 x}`:sample.json"
   ]
  },
  {
   "cell_type": "markdown",
   "metadata": {},
   "source": [
    "### Querying unstructured data"
   ]
  },
  {
   "cell_type": "markdown",
   "metadata": {},
   "source": [
    "With the release of Anymap in kdb+ 3.6 unstructured data has become much easier to manage in kdb+.\n",
    "\n",
    "However, some considerations do need to be taken in to account.\n",
    "\n",
    "* [https://code.kx.com/q/ref/releases/ChangesIn3.6/#anymap](https://code.kx.com/q/ref/releases/ChangesIn3.6/#anymap)\n",
    "\n"
   ]
  },
  {
   "cell_type": "code",
   "execution_count": 32,
   "metadata": {},
   "outputs": [
    {
     "data": {
      "text/plain": [
       "data                                                                                                                         \r\n",
       "-----------------------------------------------------------------------------------------------------------------------------\r\n",
       "`data`expiry`requestID!(,\"26cd02c57f9db87b1df9f2e7bb20cc7b\";17682D19:58:45.000000000;,\"b4a566eb-2529-5cf4-1327-857e3d73653e\")\r\n",
       "`result`message`receipt`requestID!(`success;\"success\";123154 4646646;,\"b4a566eb-2529-5cf4-1327-857e3d73653e\")                \r\n",
       "`receipt`requestID!(12345678 98751466;,\"b4a566eb-2529-5cf4-1327-857e3d73653e\")                                               \r\n",
       "`data`requestID!(,\"26cd02c57f9db87b1df9f2e7bb20cc7b\";,\"b4a566eb-2529-5cf4-1327-857e3d73653e\")                                \r\n",
       "`receipt`requestID!(12345678 98751466;,\"b4a566eb-2529-5cf4-1327-857e3d73653e\")                                               \r\n",
       "`listSize`list!(2;\"lzplogjxokyetaeflilquziatzpjagsginnajfpbkomfancdmhmumxhazblddhcc\")                                        \r\n",
       "(,`requestID)!,,\"b4a566eb-2529-5cf4-1327-857e3d73653e\"                                                                       \r\n"
      ]
     },
     "execution_count": 32,
     "metadata": {},
     "output_type": "execute_result"
    }
   ],
   "source": [
    "sample:([] data:decode each read0 `:sample.json)\n",
    "sample"
   ]
  },
  {
   "cell_type": "markdown",
   "metadata": {},
   "source": [
    "Indexing at depth allows the sparse data within the dictionaries to be queried easily"
   ]
  },
  {
   "cell_type": "code",
   "execution_count": 33,
   "metadata": {},
   "outputs": [
    {
     "data": {
      "text/plain": [
       "x                                      \r\n",
       "---------------------------------------\r\n",
       ",\"b4a566eb-2529-5cf4-1327-857e3d73653e\"\r\n",
       ",\"b4a566eb-2529-5cf4-1327-857e3d73653e\"\r\n",
       ",\"b4a566eb-2529-5cf4-1327-857e3d73653e\"\r\n",
       ",\"b4a566eb-2529-5cf4-1327-857e3d73653e\"\r\n",
       ",\"b4a566eb-2529-5cf4-1327-857e3d73653e\"\r\n",
       "0N                                     \r\n",
       ",\"b4a566eb-2529-5cf4-1327-857e3d73653e\"\r\n"
      ]
     },
     "execution_count": 33,
     "metadata": {},
     "output_type": "execute_result"
    }
   ],
   "source": [
    "select data[;`requestID] from sample"
   ]
  },
  {
   "cell_type": "markdown",
   "metadata": {},
   "source": [
    "When a key is missing from a dictionary kdb+ will return a `null` value.\n",
    "\n",
    "The type of this null is determined by the type of the first key within the dictionary.\n",
    "\n",
    "This poses an issue."
   ]
  },
  {
   "cell_type": "code",
   "execution_count": 8,
   "metadata": {},
   "outputs": [
    {
     "data": {
      "text/plain": [
       "x                       \r\n",
       "------------------------\r\n",
       "17682D19:58:45.000000000\r\n",
       "`                       \r\n",
       "`long$()                \r\n",
       ",\"\"                     \r\n",
       "`long$()                \r\n",
       "0N                      \r\n",
       ",\"\"                     \r\n"
      ]
     },
     "execution_count": 8,
     "metadata": {},
     "output_type": "execute_result"
    }
   ],
   "source": [
    "//Many different nulls are returned\n",
    "select data[;`expiry] from sample"
   ]
  },
  {
   "cell_type": "code",
   "execution_count": 33,
   "metadata": {},
   "outputs": [
    {
     "data": {
      "text/plain": [
       "data                                                                                                         \r\n",
       "-------------------------------------------------------------------------------------------------------------\r\n",
       "`result`message`receipt`requestID!(`success;\"success\";123154 4646646;,\"b4a566eb-2529-5cf4-1327-857e3d73653e\")\r\n"
      ]
     },
     "execution_count": 34,
     "metadata": {},
     "output_type": "execute_result"
    },
    {
     "ename": "\u001b[0;31mtype\u001b[0m",
     "evalue": "\u001b[0;31mtype\u001b[0m",
     "output_type": "error",
     "traceback": [
      "\u001b[0;31mevaluation error:\n\u001b[0m",
      "\u001b[0;31mtype\u001b[0m",
      "\u001b[0;31m\u001b[0m",
      "\u001b[0;31m  [0]  select from (3#sample) where null data[;`expiry]\r\n       ^\r\n\u001b[0m"
     ]
    }
   ],
   "source": [
    "//Succeds on first 2 rows as by chance only null returned in a atom null\n",
    "select from (2#sample) where null data[;`expiry]\n",
    "//Fails once moving to 3 rows as there is an empty list null\n",
    "select from (3#sample) where null data[;`expiry]"
   ]
  },
  {
   "cell_type": "markdown",
   "metadata": {},
   "source": [
    "Checking if a given key in in the rows dictionary will only return rows which do not have the key"
   ]
  },
  {
   "cell_type": "code",
   "execution_count": 34,
   "metadata": {},
   "outputs": [
    {
     "data": {
      "text/plain": [
       "data                                                                                                                         \r\n",
       "-----------------------------------------------------------------------------------------------------------------------------\r\n",
       "`data`expiry`requestID!(,\"26cd02c57f9db87b1df9f2e7bb20cc7b\";17682D19:58:45.000000000;,\"b4a566eb-2529-5cf4-1327-857e3d73653e\")\r\n"
      ]
     },
     "execution_count": 34,
     "metadata": {},
     "output_type": "execute_result"
    }
   ],
   "source": [
    "select from sample where `expiry in/:key each data, not null data[;`expiry]"
   ]
  },
  {
   "cell_type": "markdown",
   "metadata": {},
   "source": [
    "If we prepend each dictionary with the null symbol key ``` and generic null value `(::)` we now can query in a more free manner."
   ]
  },
  {
   "cell_type": "code",
   "execution_count": 35,
   "metadata": {},
   "outputs": [
    {
     "data": {
      "text/plain": [
       "data                                                                                                                             \r\n",
       "---------------------------------------------------------------------------------------------------------------------------------\r\n",
       "``data`expiry`requestID!(::;,\"26cd02c57f9db87b1df9f2e7bb20cc7b\";17682D19:58:45.000000000;,\"b4a566eb-2529-5cf4-1327-857e3d73653e\")\r\n",
       "``result`message`receipt`requestID!(::;`success;\"success\";123154 4646646;,\"b4a566eb-2529-5cf4-1327-857e3d73653e\")                \r\n",
       "``receipt`requestID!(::;12345678 98751466;,\"b4a566eb-2529-5cf4-1327-857e3d73653e\")                                               \r\n",
       "``data`requestID!(::;,\"26cd02c57f9db87b1df9f2e7bb20cc7b\";,\"b4a566eb-2529-5cf4-1327-857e3d73653e\")                                \r\n",
       "``receipt`requestID!(::;12345678 98751466;,\"b4a566eb-2529-5cf4-1327-857e3d73653e\")                                               \r\n",
       "``listSize`list!(::;2;\"lzplogjxokyetaeflilquziatzpjagsginnajfpbkomfancdmhmumxhazblddhcc\")                                        \r\n",
       "``requestID!(::;,\"b4a566eb-2529-5cf4-1327-857e3d73653e\")                                                                         \r\n"
      ]
     },
     "execution_count": 35,
     "metadata": {},
     "output_type": "execute_result"
    }
   ],
   "source": [
    "update data:(enlist[`]!enlist (::))(,)/:data from `sample;\n",
    "sample"
   ]
  },
  {
   "cell_type": "markdown",
   "metadata": {},
   "source": [
    "All nulls when a given key is missing are now `(::)`"
   ]
  },
  {
   "cell_type": "code",
   "execution_count": 36,
   "metadata": {},
   "outputs": [
    {
     "data": {
      "text/plain": [
       "expiry                  \r\n",
       "------------------------\r\n",
       "17682D19:58:45.000000000\r\n",
       "::                      \r\n",
       "::                      \r\n",
       "::                      \r\n",
       "::                      \r\n",
       "::                      \r\n",
       "::                      \r\n"
      ]
     },
     "execution_count": 36,
     "metadata": {},
     "output_type": "execute_result"
    }
   ],
   "source": [
    "select expiry:data[;`expiry] from sample"
   ]
  },
  {
   "cell_type": "markdown",
   "metadata": {},
   "source": [
    "The previously failing query can now execute as there are no list type nulls"
   ]
  },
  {
   "cell_type": "code",
   "execution_count": 12,
   "metadata": {},
   "outputs": [
    {
     "data": {
      "text/plain": [
       "data                                                                                                                             \r\n",
       "---------------------------------------------------------------------------------------------------------------------------------\r\n",
       "``data`expiry`requestID!(::;,\"26cd02c57f9db87b1df9f2e7bb20cc7b\";17682D19:58:45.000000000;,\"b4a566eb-2529-5cf4-1327-857e3d73653e\")\r\n"
      ]
     },
     "execution_count": 12,
     "metadata": {},
     "output_type": "execute_result"
    }
   ],
   "source": [
    "select from sample where not null data[;`expiry]"
   ]
  },
  {
   "cell_type": "markdown",
   "metadata": {},
   "source": [
    "These `(::)` can also be replaced with chosen values easily.\n",
    "\n",
    "Here an infinite value is chosen:"
   ]
  },
  {
   "cell_type": "code",
   "execution_count": 13,
   "metadata": {},
   "outputs": [
    {
     "data": {
      "text/plain": [
       "expiry                  \r\n",
       "------------------------\r\n",
       "17682D19:58:45.000000000\r\n",
       "0W                      \r\n",
       "0W                      \r\n",
       "0W                      \r\n",
       "0W                      \r\n",
       "0W                      \r\n",
       "0W                      \r\n"
      ]
     },
     "execution_count": 13,
     "metadata": {},
     "output_type": "execute_result"
    }
   ],
   "source": [
    "fill:{@[y;where null y;:;x]}\n",
    "select expiry:fill[0Wn]data[;`expiry] from sample"
   ]
  }
 ],
 "metadata": {
  "kernelspec": {
   "display_name": "Q (kdb+)",
   "language": "q",
   "name": "qpk"
  },
  "language_info": {
   "file_extension": ".q",
   "mimetype": "text/x-q",
   "name": "q",
   "version": "3.6.0"
  },
  "toc": {
   "base_numbering": 1,
   "nav_menu": {},
   "number_sections": true,
   "sideBar": true,
   "skip_h1_title": false,
   "title_cell": "Table of Contents",
   "title_sidebar": "Contents",
   "toc_cell": false,
   "toc_position": {},
   "toc_section_display": true,
   "toc_window_display": false
  }
 },
 "nbformat": 4,
 "nbformat_minor": 2
}
