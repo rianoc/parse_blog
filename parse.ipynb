{
 "cells": [
  {
   "cell_type": "markdown",
   "metadata": {},
   "source": [
    "# Parsing data in kdb+"
   ]
  },
  {
   "cell_type": "markdown",
   "metadata": {},
   "source": [
    "Passing data between systems can often become complex, if not impossible, due to lack of interoperability. While kdb+ provides many interfaces on [https://code.kx.com/q/interfaces/](https://code.kx.com/q/interfaces/) to simplify integration its native text parsing capabilities remain extremely important too as they can be used to greatly simplify data ingestion and inter-process communication. These requirements are often encountered exploration or proof-of-concept phases of projects but there are two additional areas where they can be critical:\n",
    "\n",
    "* For large once off ingestion of data\n",
    "* For ongoing ingestion of data from a provider which does not provide other methods.\n",
    "\n",
    "In both of these cases it is important the parsing of data is as efficient as possible. In this blog we offer some tips to implement clean and efficient parsing of CSV formats to kdb+ and in a follow-up blog we will look at the increasingly popular alternative format, JSON."
   ]
  },
  {
   "cell_type": "markdown",
   "metadata": {},
   "source": [
    "## CSV\n",
    "\n",
    "CSV files do not have flexibility in the type of data structures they hold but parsing is straight forward.\n",
    "\n",
    "Take the following example file:"
   ]
  },
  {
   "cell_type": "code",
   "execution_count": 1,
   "metadata": {},
   "outputs": [
    {
     "data": {
      "text/plain": [
       "\"longCol,floatCol,symbolCol,stringCol,skipCol,dateCol,timeCol,ignoreCol\"\r\n",
       "\"1,4,b,bb,8,2018-11-23,00:01:00.000,--\"\r\n",
       "\"2,5,h,dd,8,2018-11-23,00:01:00.003,--\"\r\n"
      ]
     },
     "execution_count": 1,
     "metadata": {},
     "output_type": "execute_result"
    }
   ],
   "source": [
    "read0 `:tab.csv"
   ]
  },
  {
   "cell_type": "markdown",
   "metadata": {},
   "source": [
    "With one line it was possible to parse to the exact type of table required"
   ]
  },
  {
   "cell_type": "code",
   "execution_count": 2,
   "metadata": {},
   "outputs": [
    {
     "data": {
      "text/plain": [
       "longCol floatCol symbolCol stringCol dateCol    timeCol     \r\n",
       "------------------------------------------------------------\r\n",
       "1       4        b         \"bb\"      2018.11.23 00:01:00.000\r\n",
       "2       5        h         \"dd\"      2018.11.23 00:01:00.003\r\n"
      ]
     },
     "execution_count": 2,
     "metadata": {},
     "output_type": "execute_result"
    },
    {
     "data": {
      "text/plain": [
       "c        | t f a\r\n",
       "---------| -----\r\n",
       "longCol  | j    \r\n",
       "floatCol | f    \r\n",
       "symbolCol| s    \r\n",
       "stringCol| C    \r\n",
       "dateCol  | d    \r\n",
       "timeCol  | t    \r\n"
      ]
     },
     "execution_count": 2,
     "metadata": {},
     "output_type": "execute_result"
    }
   ],
   "source": [
    "tab:(\"JFS* DT\";enlist \",\") 0: `:tab.csv\n",
    "tab\n",
    "meta tab"
   ]
  },
  {
   "cell_type": "markdown",
   "metadata": {},
   "source": [
    "* `*` is used to read a string column. `stringCol`\n",
    "* A space ` ` can be used to ignore a given column. `skipCol`\n",
    "* Any column to the right which is not given a parse rule is ignored. `ignoreCol`"
   ]
  },
  {
   "cell_type": "markdown",
   "metadata": {},
   "source": [
    "For more information, setting and the loading of fixed-width fields see:\n",
    "* [https://code.kx.com/q/ref/filenumbers/#load-csv](https://code.kx.com/q/ref/filenumbers/#load-csv)"
   ]
  },
  {
   "cell_type": "markdown",
   "metadata": {},
   "source": [
    "## Don't clog your memory"
   ]
  },
  {
   "cell_type": "markdown",
   "metadata": {},
   "source": [
    "A common mistake by users loading CSV data is to use `S` as a default datatype.\n",
    "This is the symbol [datatype](https://code.kx.com/q/ref/card/#datatypes) which should only be used when loading columns that have a small number of unique values. Instead `*` when uncertain, this will load the data as strings (`C` in a table meta).\n",
    "\n",
    "This is because symbols are interned strings. Any time a symbol of a new value is created in a process it will be added to an internal lookup. These cannot be freed during garbage collection with [.Q.gc](https://code.kx.com/q/ref/dotq/#qgc-garbage-collect) and will instead persist in the memory of the process until it exits.\n",
    "\n",
    "You can see the number of syms in this table and the space memory they are using with [.Q.w](https://code.kx.com/q/ref/dotq/#qw-memory-stats)"
   ]
  },
  {
   "cell_type": "code",
   "execution_count": 3,
   "metadata": {},
   "outputs": [
    {
     "data": {
      "text/plain": [
       "1206 53636\r\n"
      ]
     },
     "execution_count": 3,
     "metadata": {},
     "output_type": "execute_result"
    }
   ],
   "source": [
    ".Q.w[]`syms`symw //Check the start values"
   ]
  },
  {
   "cell_type": "code",
   "execution_count": 4,
   "metadata": {},
   "outputs": [
    {
     "data": {
      "text/plain": [
       "`0`1`2`3`4`5`6`7`8`9`10`11`12`13`14`15`16`17`18`19`20`21`22`23`24`25`26`27`28..\r\n"
      ]
     },
     "execution_count": 4,
     "metadata": {},
     "output_type": "execute_result"
    },
    {
     "data": {
      "text/plain": [
       "11204 588234\r\n"
      ]
     },
     "execution_count": 4,
     "metadata": {},
     "output_type": "execute_result"
    }
   ],
   "source": [
    "r:`$string til 10000 //Create a list of 10 thousand symbols\n",
    "r\n",
    ".Q.w[]`syms`symw"
   ]
  },
  {
   "cell_type": "code",
   "execution_count": 2,
   "metadata": {},
   "outputs": [
    {
     "data": {
      "text/plain": [
       "`.\r\n"
      ]
     },
     "execution_count": 2,
     "metadata": {},
     "output_type": "execute_result"
    },
    {
     "data": {
      "text/plain": [
       "0\r\n"
      ]
     },
     "execution_count": 2,
     "metadata": {},
     "output_type": "execute_result"
    },
    {
     "data": {
      "text/plain": [
       "1200 53438\r\n"
      ]
     },
     "execution_count": 2,
     "metadata": {},
     "output_type": "execute_result"
    }
   ],
   "source": [
    "delete r from `. //Delete r\n",
    ".Q.gc[] //Run garbage collection\n",
    ".Q.w[]`syms`symw //No memory is returned to the process "
   ]
  },
  {
   "cell_type": "markdown",
   "metadata": {},
   "source": [
    "The white paper [Working With Sym Files](https://code.kx.com/v2/wp/symfiles/) covers this topic in greater detail when it comes time to store symbols to disk."
   ]
  },
  {
   "cell_type": "markdown",
   "metadata": {},
   "source": [
    "## Complex parsing\n",
    "\n",
    "### Date format\n",
    "\n",
    "* Use `\\z` to control parsing of dates. Set to 0 for \"mm/dd/yyyy\" and 1 for \"dd/mm/yyyy\".\n",
    "   * [https://code.kx.com/q/ref/syscmds/#z-date-parsing](https://code.kx.com/q/ref/syscmds/#z-date-parsing)"
   ]
  },
  {
   "cell_type": "code",
   "execution_count": 6,
   "metadata": {},
   "outputs": [
    {
     "data": {
      "text/plain": [
       "2010.06.01\r\n"
      ]
     },
     "execution_count": 6,
     "metadata": {},
     "output_type": "execute_result"
    }
   ],
   "source": [
    "//You may get an unexpected date\n",
    "\\z 0\n",
    "\"D\"$\"06/01/2010\""
   ]
  },
  {
   "cell_type": "code",
   "execution_count": 7,
   "metadata": {},
   "outputs": [
    {
     "data": {
      "text/plain": [
       "0Nd\r\n"
      ]
     },
     "execution_count": 7,
     "metadata": {},
     "output_type": "execute_result"
    }
   ],
   "source": [
    "//Or a null\n",
    "\\z 0\n",
    "\"D\"$\"30/12/2010\""
   ]
  },
  {
   "cell_type": "code",
   "execution_count": 8,
   "metadata": {},
   "outputs": [
    {
     "data": {
      "text/plain": [
       "2010.01.06\r\n"
      ]
     },
     "execution_count": 8,
     "metadata": {},
     "output_type": "execute_result"
    }
   ],
   "source": [
    "//Changing z to 1 gives the intended result\n",
    "\\z 1\n",
    "\"D\"$\"06/01/2010\""
   ]
  },
  {
   "cell_type": "code",
   "execution_count": 1,
   "metadata": {},
   "outputs": [
    {
     "data": {
      "text/plain": [
       "98\r\n"
      ]
     },
     "execution_count": 1,
     "metadata": {},
     "output_type": "execute_result"
    }
   ],
   "source": [
    "//Using \\z correctly will perform much better than using a manual parsing method\n",
    "manyDates:100000#enlist \"30/12/2010\"\n",
    "\\t \"D\"${\".\" sv reverse \"/\" vs x} each manyDates"
   ]
  },
  {
   "cell_type": "code",
   "execution_count": 10,
   "metadata": {},
   "outputs": [
    {
     "data": {
      "text/plain": [
       "7\r\n"
      ]
     },
     "execution_count": 10,
     "metadata": {},
     "output_type": "execute_result"
    }
   ],
   "source": [
    "\\z 1\n",
    "\\t \"D\"$manyDates"
   ]
  },
  {
   "cell_type": "markdown",
   "metadata": {},
   "source": [
    "### Other accepted time and date formats"
   ]
  },
  {
   "cell_type": "markdown",
   "metadata": {},
   "source": [
    "Many other formats can be parsed by kdb+.\n",
    "\n",
    "A selection:"
   ]
  },
  {
   "cell_type": "code",
   "execution_count": 11,
   "metadata": {},
   "outputs": [
    {
     "data": {
      "text/plain": [
       "2018.12.30\r\n"
      ]
     },
     "execution_count": 11,
     "metadata": {},
     "output_type": "execute_result"
    }
   ],
   "source": [
    "\"D\"$\"2018-12-30\""
   ]
  },
  {
   "cell_type": "code",
   "execution_count": 12,
   "metadata": {},
   "outputs": [
    {
     "data": {
      "text/plain": [
       "2018.01.30\r\n"
      ]
     },
     "execution_count": 12,
     "metadata": {},
     "output_type": "execute_result"
    }
   ],
   "source": [
    "\"D\"$\"2018 Jan 30\""
   ]
  },
  {
   "cell_type": "code",
   "execution_count": 13,
   "metadata": {},
   "outputs": [
    {
     "data": {
      "text/plain": [
       "2018.01.30\r\n"
      ]
     },
     "execution_count": 13,
     "metadata": {},
     "output_type": "execute_result"
    }
   ],
   "source": [
    "\"D\"$\"2018 January 30\""
   ]
  },
  {
   "cell_type": "code",
   "execution_count": 14,
   "metadata": {},
   "outputs": [
    {
     "data": {
      "text/plain": [
       "2019.01.01D00:00:00.000000000\r\n"
      ]
     },
     "execution_count": 14,
     "metadata": {},
     "output_type": "execute_result"
    }
   ],
   "source": [
    "\"P\"$\"1546300800\" //Unix epoch"
   ]
  },
  {
   "cell_type": "code",
   "execution_count": 15,
   "metadata": {},
   "outputs": [
    {
     "data": {
      "text/plain": [
       "2019.01.01D00:00:00.000000000\r\n"
      ]
     },
     "execution_count": 15,
     "metadata": {},
     "output_type": "execute_result"
    }
   ],
   "source": [
    "//These value only parse to the deprecated datetime Z format\n",
    "//We can simply cast them to timestamps\n",
    "`timestamp$\"Z\"$\"2019-01-01T00:00:00.000Z\""
   ]
  },
  {
   "cell_type": "markdown",
   "metadata": {},
   "source": [
    "## Speed and efficiency "
   ]
  },
  {
   "cell_type": "markdown",
   "metadata": {},
   "source": [
    "### Don't do the same work twice (.Q.fu)"
   ]
  },
  {
   "cell_type": "markdown",
   "metadata": {},
   "source": [
    "There are often fields which we cannot parse natively. Parsing using custom string manipulations is a computationally intensive task.\n",
    "One way to avoid this is by applying the function once per distinct item and mapping the result.\n",
    "This is only suitable when the data has a smaller number of distinct elements in it.\n",
    ".i.e for dates but not unique timestamps etc.\n",
    "\n",
    "`.Q.fu` simplifies this task"
   ]
  },
  {
   "cell_type": "code",
   "execution_count": 16,
   "metadata": {},
   "outputs": [
    {
     "data": {
      "text/plain": [
       "0Nd\r\n"
      ]
     },
     "execution_count": 16,
     "metadata": {},
     "output_type": "execute_result"
    }
   ],
   "source": [
    "//Take this example which will not parse:\n",
    "\"D\"$\"November 30 2018\""
   ]
  },
  {
   "cell_type": "code",
   "execution_count": 17,
   "metadata": {},
   "outputs": [
    {
     "data": {
      "text/plain": [
       "2018.11.30\r\n"
      ]
     },
     "execution_count": 17,
     "metadata": {},
     "output_type": "execute_result"
    }
   ],
   "source": [
    "//By reordering the components it will parse\n",
    "\"D\"$\" \" sv @[;2 0 1] \" \" vs \"November 30 2018\""
   ]
  },
  {
   "cell_type": "code",
   "execution_count": 18,
   "metadata": {},
   "outputs": [
    {
     "data": {
      "text/plain": [
       "166\r\n"
      ]
     },
     "execution_count": 18,
     "metadata": {},
     "output_type": "execute_result"
    }
   ],
   "source": [
    "//This text based cutting is not efficient\n",
    "manyDates:100000#enlist \"November 30 2018\"\n",
    "\\t \"D\"${\" \" sv @[;2 0 1] \" \" vs x} each manyDates"
   ]
  },
  {
   "cell_type": "code",
   "execution_count": 19,
   "metadata": {},
   "outputs": [
    {
     "data": {
      "text/plain": [
       "17\r\n"
      ]
     },
     "execution_count": 19,
     "metadata": {},
     "output_type": "execute_result"
    }
   ],
   "source": [
    "//Switching to .Q.fu sees a huge speed up\n",
    "\\t .Q.fu[{\"D\"${\" \" sv @[;2 0 1] \" \" vs x} each x}] manyDates"
   ]
  },
  {
   "cell_type": "markdown",
   "metadata": {},
   "source": [
    "### Straight line speed (Vectorised operations)"
   ]
  },
  {
   "cell_type": "markdown",
   "metadata": {},
   "source": [
    "Sometimes part of parsing data requires mathematical calculations be performed.\n",
    "A common example of this is differing epochs between languages and systems.\n",
    "When parsing a column one may write functions which iterate through a row at a time rather than operating on the whole column.\n",
    "This is sometimes the only choice. However if suitable kdb+ has native vector based operations which gain huge efficiency by operating on the column as a whole.\n"
   ]
  },
  {
   "cell_type": "code",
   "execution_count": 20,
   "metadata": {},
   "outputs": [
    {
     "data": {
      "text/plain": [
       "2019.01.01D00:00:00.000000000\r\n"
      ]
     },
     "execution_count": 20,
     "metadata": {},
     "output_type": "execute_result"
    }
   ],
   "source": [
    "//Assume we are given a field which is seconds since 1900.01.01D00\n",
    "//\"3755289600\"\n",
    "//With that information we can extract what is needed from the field\n",
    "1900.01.01D00+0D00:00:01*\"J\"$\"3755289600\""
   ]
  },
  {
   "cell_type": "code",
   "execution_count": 21,
   "metadata": {},
   "outputs": [
    {
     "data": {
      "text/plain": [
       "593\r\n"
      ]
     },
     "execution_count": 21,
     "metadata": {},
     "output_type": "execute_result"
    }
   ],
   "source": [
    "//If may be tempting to write a function and iterate through the data\n",
    "manyTimes:1000000#enlist \"3755289600\"\n",
    "\\t {1900.01.01D00+0D00:00:01*\"J\"$x} each manyTimes\n",
    "//But this will perform poorly"
   ]
  },
  {
   "cell_type": "code",
   "execution_count": 22,
   "metadata": {},
   "outputs": [
    {
     "data": {
      "text/plain": [
       "34\r\n"
      ]
     },
     "execution_count": 22,
     "metadata": {},
     "output_type": "execute_result"
    }
   ],
   "source": [
    "//It serves better to write functions which accept lists\n",
    "//This allows you to take advantage of vector based numeric operators in cases like this\n",
    "\\t {1900.01.01D00+0D00:00:01*\"J\"$x} manyTimes"
   ]
  },
  {
   "cell_type": "markdown",
   "metadata": {},
   "source": [
    "### Skip the middle man (Named pipes)"
   ]
  },
  {
   "cell_type": "markdown",
   "metadata": {},
   "source": [
    "Often plain text files will come compressed. This requires them to be:\n",
    "1. Decompressed to disk in full\n",
    "2. Ingested from disk\n",
    "\n",
    "This is an inefficient use of resources, as the uncompressed file will only ever be read once.\n",
    "Named pipes allow the disk to be taken out of the equation by streaming the uncompressed data directly to kdb+\n",
    "\n",
    "For more information and examples see:\n",
    "[https://code.kx.com/q/cookbook/named-pipes/](https://code.kx.com/q/cookbook/named-pipes/)"
   ]
  },
  {
   "cell_type": "markdown",
   "metadata": {},
   "source": [
    "### Stream it in (.Q.fs, .Q.fsn & .Q.fps)"
   ]
  },
  {
   "cell_type": "markdown",
   "metadata": {},
   "source": [
    "As text files grow the memory usage of the ingestion process can become a concern.\n",
    "`.Q.fs`,`.Q.fsn` and `.Q.fps` allow control of this by providing the ability to specify the number of lines at a time to pull in to memory. Then each batch can be published to another process on written to disk before continuing.\n",
    "\n",
    "* `.Q.fs`   - Operates on standard files\n",
    "* `.Q.fsn` - Allows the specification of chunk size\n",
    "* `.Q.fps`  - Operates on named pipes\n",
    "\n",
    "As well as memory management `.Q.fsn` also allows us to ensure our optimizations using `.Q.fu` and vectorised operations are supplied with sufficient data on each invocation to see speed ups.\n",
    "\n",
    "* [https://code.kx.com/q/ref/dotq/#qfs-streaming-algorithm](https://code.kx.com/q/ref/dotq/#qfs-streaming-algorithm)\n",
    "* [https://code.kx.com/q/ref/dotq/#qfsn-streaming-algorithm](https://code.kx.com/q/ref/dotq/#qfsn-streaming-algorithm)\n",
    "* [https://code.kx.com/q/ref/dotq/#qfps-streaming-algorithm](https://code.kx.com/q/ref/dotq/#qfps-streaming-algorithm)"
   ]
  }
 ],
 "metadata": {
  "kernelspec": {
   "display_name": "Q (kdb+)",
   "language": "q",
   "name": "qpk"
  },
  "language_info": {
   "file_extension": ".q",
   "mimetype": "text/x-q",
   "name": "q",
   "version": "3.6.0"
  },
  "toc": {
   "base_numbering": 1,
   "nav_menu": {},
   "number_sections": true,
   "sideBar": true,
   "skip_h1_title": false,
   "title_cell": "Table of Contents",
   "title_sidebar": "Contents",
   "toc_cell": false,
   "toc_position": {},
   "toc_section_display": true,
   "toc_window_display": false
  }
 },
 "nbformat": 4,
 "nbformat_minor": 2
}
