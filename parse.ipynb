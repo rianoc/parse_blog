{
 "cells": [
  {
   "cell_type": "markdown",
   "metadata": {},
   "source": [
    "# Parsing data in kdb+"
   ]
  },
  {
   "cell_type": "markdown",
   "metadata": {},
   "source": [
    "Passing data between systems can often become complex if not impossible due to lack of interoperability. A common way to simplify this communication is to use text based formats. CSV traditionally and now often JSON are used for this purpose.\n",
    "\n",
    "Kdb+ has many available [interfaces](https://code.kx.com/q/interfaces/) but it's native text parsing skills remain extremely important.\n",
    "\n",
    "This notebook offers some tips to implement clean and efficient parsing of textual formats to kdb+."
   ]
  },
  {
   "cell_type": "markdown",
   "metadata": {},
   "source": [
    "## CSV\n",
    "\n",
    "CSV files do not have flexibility in the type data structures they hold but parsing is straight forward."
   ]
  },
  {
   "cell_type": "code",
   "execution_count": 1,
   "metadata": {},
   "outputs": [],
   "source": [
    "/tab.csv:\n",
    "/\n",
    "longCol,floatCol,symbolCol,stringCol,skipCol,dateCol,timeCol,ignoreCol\n",
    "1,4,b,bb,8,2018-11-23,00:01:00.000,--\n",
    "2,5,h,dd,8,2018-11-23,00:01:00.003,--"
   ]
  },
  {
   "cell_type": "code",
   "execution_count": 2,
   "metadata": {},
   "outputs": [
    {
     "data": {
      "text/plain": [
       "longCol floatCol symbolCol stringCol dateCol    timeCol     \r\n",
       "------------------------------------------------------------\r\n",
       "1       4        b         \"bb\"      2018.11.23 00:01:00.000\r\n",
       "2       5        h         \"dd\"      2018.11.23 00:01:00.003\r\n"
      ]
     },
     "execution_count": 2,
     "metadata": {},
     "output_type": "execute_result"
    },
    {
     "data": {
      "text/plain": [
       "c        | t f a\r\n",
       "---------| -----\r\n",
       "longCol  | j    \r\n",
       "floatCol | f    \r\n",
       "symbolCol| s    \r\n",
       "stringCol| C    \r\n",
       "dateCol  | d    \r\n",
       "timeCol  | t    \r\n"
      ]
     },
     "execution_count": 2,
     "metadata": {},
     "output_type": "execute_result"
    }
   ],
   "source": [
    "tab:(\"JFS* DT\";enlist \",\") 0: `:tab.csv\n",
    "tab\n",
    "meta tab"
   ]
  },
  {
   "cell_type": "markdown",
   "metadata": {},
   "source": [
    "* `*` is used to read a string column. `stringCol`\n",
    "* A space ` ` can be used to ignore a given column. `skipCol`\n",
    "* Any column to the right which is not given a parse rule is ignored. `ignoreCol`"
   ]
  },
  {
   "cell_type": "markdown",
   "metadata": {},
   "source": [
    "It is important to use `*` as your default rule rather than `S`. This is to ensure the process memory does not become bloated with unnecessary interned strings."
   ]
  },
  {
   "cell_type": "markdown",
   "metadata": {},
   "source": [
    "* [https://code.kx.com/q/ref/filenumbers/#load-csv](https://code.kx.com/q/ref/filenumbers/#load-csv)"
   ]
  },
  {
   "cell_type": "markdown",
   "metadata": {},
   "source": [
    "## Complex parsing\n",
    "\n",
    "### Date format\n",
    "\n",
    "* Use `\\z` to control between parsing dates. 0 is \"mm/dd/yyyy\" and 1 is \"dd/mm/yyyy\".\n",
    "   * [https://code.kx.com/q/ref/syscmds/#z-date-parsing](https://code.kx.com/q/ref/syscmds/#z-date-parsing)"
   ]
  },
  {
   "cell_type": "code",
   "execution_count": 3,
   "metadata": {},
   "outputs": [
    {
     "data": {
      "text/plain": [
       "2010.06.01\r\n"
      ]
     },
     "execution_count": 3,
     "metadata": {},
     "output_type": "execute_result"
    }
   ],
   "source": [
    "\\z 0\n",
    "\"D\"$\"06/01/2010\""
   ]
  },
  {
   "cell_type": "code",
   "execution_count": 4,
   "metadata": {},
   "outputs": [
    {
     "data": {
      "text/plain": [
       "2010.01.06\r\n"
      ]
     },
     "execution_count": 4,
     "metadata": {},
     "output_type": "execute_result"
    }
   ],
   "source": [
    "\\z 1\n",
    "\"D\"$\"06/01/2010\""
   ]
  },
  {
   "cell_type": "markdown",
   "metadata": {},
   "source": [
    "This is much preferred than the alternative"
   ]
  },
  {
   "cell_type": "code",
   "execution_count": 5,
   "metadata": {},
   "outputs": [
    {
     "data": {
      "text/plain": [
       "0Nd\r\n"
      ]
     },
     "execution_count": 5,
     "metadata": {},
     "output_type": "execute_result"
    }
   ],
   "source": [
    "\\z 0\n",
    "\"D\"$\"30/12/2010\""
   ]
  },
  {
   "cell_type": "code",
   "execution_count": 6,
   "metadata": {},
   "outputs": [
    {
     "data": {
      "text/plain": [
       "167\r\n"
      ]
     },
     "execution_count": 6,
     "metadata": {},
     "output_type": "execute_result"
    }
   ],
   "source": [
    "manyDates:100000#enlist \"30/12/2010\"\n",
    "\\t \"D\"${\".\" sv reverse \"/\" vs x} each manyDates"
   ]
  },
  {
   "cell_type": "code",
   "execution_count": 7,
   "metadata": {},
   "outputs": [
    {
     "data": {
      "text/plain": [
       "11\r\n"
      ]
     },
     "execution_count": 7,
     "metadata": {},
     "output_type": "execute_result"
    }
   ],
   "source": [
    "\\z 1\n",
    "\\t \"D\"$manyDates"
   ]
  },
  {
   "cell_type": "markdown",
   "metadata": {},
   "source": [
    "### Other accepted formats"
   ]
  },
  {
   "cell_type": "markdown",
   "metadata": {},
   "source": [
    "Many other formats can be parsed by kdb+"
   ]
  },
  {
   "cell_type": "code",
   "execution_count": 8,
   "metadata": {},
   "outputs": [
    {
     "data": {
      "text/plain": [
       "2018.12.30\r\n"
      ]
     },
     "execution_count": 8,
     "metadata": {},
     "output_type": "execute_result"
    }
   ],
   "source": [
    "\"D\"$\"2018-12-30\""
   ]
  },
  {
   "cell_type": "code",
   "execution_count": 9,
   "metadata": {},
   "outputs": [
    {
     "data": {
      "text/plain": [
       "2018.01.30\r\n"
      ]
     },
     "execution_count": 9,
     "metadata": {},
     "output_type": "execute_result"
    }
   ],
   "source": [
    "\"D\"$\"2018 Jan 30\"\n",
    "//ToDo: flesh out this list with all accepted"
   ]
  },
  {
   "cell_type": "markdown",
   "metadata": {},
   "source": [
    "### .Q.fu"
   ]
  },
  {
   "cell_type": "markdown",
   "metadata": {},
   "source": [
    "There are commonly fields which we cannot parse natively.\n",
    "\n",
    "`.Q.fu` provides the opportunity to improve performance in these cases.\n"
   ]
  },
  {
   "cell_type": "code",
   "execution_count": 10,
   "metadata": {},
   "outputs": [
    {
     "data": {
      "text/plain": [
       "0Nd\r\n"
      ]
     },
     "execution_count": 10,
     "metadata": {},
     "output_type": "execute_result"
    }
   ],
   "source": [
    "//Take this example which will not parse:\n",
    "\"D\"$\"November 30 2018\""
   ]
  },
  {
   "cell_type": "code",
   "execution_count": 11,
   "metadata": {},
   "outputs": [
    {
     "data": {
      "text/plain": [
       "2018.11.30\r\n"
      ]
     },
     "execution_count": 11,
     "metadata": {},
     "output_type": "execute_result"
    }
   ],
   "source": [
    "//By reordering the components it will parse\n",
    "\"D\"$\" \" sv @[;2 0 1] \" \" vs \"November 30 2018\""
   ]
  },
  {
   "cell_type": "code",
   "execution_count": 12,
   "metadata": {},
   "outputs": [
    {
     "data": {
      "text/plain": [
       "182\r\n"
      ]
     },
     "execution_count": 12,
     "metadata": {},
     "output_type": "execute_result"
    }
   ],
   "source": [
    "//This text based cutting is not efficient\n",
    "manyDates:100000#enlist \"November 30 2018\"\n",
    "\\t \"D\"${\" \" sv @[;2 0 1] \" \" vs x} each manyDates"
   ]
  },
  {
   "cell_type": "code",
   "execution_count": 13,
   "metadata": {},
   "outputs": [
    {
     "data": {
      "text/plain": [
       "15\r\n"
      ]
     },
     "execution_count": 13,
     "metadata": {},
     "output_type": "execute_result"
    }
   ],
   "source": [
    "//Switching to .Q.fu sees a huge speed up\n",
    "\\t .Q.fu[{\"D\"${\" \" sv @[;2 0 1] \" \" vs x} each x}] manyDates"
   ]
  },
  {
   "cell_type": "markdown",
   "metadata": {},
   "source": [
    "Note that `.Q.fu` gains it speed by applying the function once per distinct item and mapping the result.\n",
    "\n",
    "For this reason it is only of benefit when the data has a smaller number of distinct elements in it.\n",
    "\n",
    ".i.e suitable for dates but not unique timestamps etc."
   ]
  },
  {
   "cell_type": "markdown",
   "metadata": {},
   "source": [
    "### Vectorised operations "
   ]
  },
  {
   "cell_type": "code",
   "execution_count": 14,
   "metadata": {},
   "outputs": [
    {
     "data": {
      "text/plain": [
       "2019.01.01D00:00:00.000000000\r\n"
      ]
     },
     "execution_count": 14,
     "metadata": {},
     "output_type": "execute_result"
    }
   ],
   "source": [
    "/Assume we are given a field which is seconds since 1900.01.01D00\n",
    "/\"3755289600\"\n",
    "/With that information we can extract what is needed from the field\n",
    "1900.01.01D00+0D00:00:01*\"J\"$\"3755289600\""
   ]
  },
  {
   "cell_type": "code",
   "execution_count": 15,
   "metadata": {},
   "outputs": [
    {
     "data": {
      "text/plain": [
       "1399\r\n"
      ]
     },
     "execution_count": 15,
     "metadata": {},
     "output_type": "execute_result"
    }
   ],
   "source": [
    "/If may be tempting to write a function and each through the data\n",
    "manyTimes:1000000#enlist \"3755289600\"\n",
    "\\t {1900.01.01D00+0D00:00:01*\"J\"$x} each manyTimes\n",
    "/But this will perform poorly"
   ]
  },
  {
   "cell_type": "code",
   "execution_count": 16,
   "metadata": {},
   "outputs": [
    {
     "data": {
      "text/plain": [
       "44\r\n"
      ]
     },
     "execution_count": 16,
     "metadata": {},
     "output_type": "execute_result"
    }
   ],
   "source": [
    "//It serves better to write functions which accept lists\n",
    "//This allows you to take advantage of vector based numeric operators in cases like this\n",
    "\\t {1900.01.01D00+0D00:00:01*\"J\"$x} manyTimes"
   ]
  },
  {
   "cell_type": "markdown",
   "metadata": {},
   "source": [
    "## JSON\n",
    "\n",
    "JSON can hold more complex structures than CSV files which is useful but can cause added complexity during ingestion.\n",
    "\n",
    "Basic datatype support also means we cannot simply rely on the inbuilt `.j` functions in kdb+"
   ]
  },
  {
   "cell_type": "code",
   "execution_count": 17,
   "metadata": {},
   "outputs": [
    {
     "data": {
      "text/plain": [
       "0b\r\n"
      ]
     },
     "execution_count": 17,
     "metadata": {},
     "output_type": "execute_result"
    }
   ],
   "source": [
    "//Roundtrip fails\n",
    "6~.j.k .j.j 6"
   ]
  },
  {
   "cell_type": "code",
   "execution_count": 18,
   "metadata": {},
   "outputs": [
    {
     "data": {
      "text/plain": [
       "6f\r\n"
      ]
     },
     "execution_count": 18,
     "metadata": {},
     "output_type": "execute_result"
    }
   ],
   "source": [
    "//All numerics are devolved to floats\n",
    ".j.k .j.j 6"
   ]
  },
  {
   "cell_type": "markdown",
   "metadata": {},
   "source": [
    "* [https://code.kx.com/q/ref/dotj/](https://code.kx.com/q/ref/dotj/)"
   ]
  },
  {
   "cell_type": "markdown",
   "metadata": {},
   "source": [
    "## JSON table encoding"
   ]
  },
  {
   "cell_type": "code",
   "execution_count": 19,
   "metadata": {},
   "outputs": [
    {
     "data": {
      "text/plain": [
       "longCol floatCol symbolCol stringCol dateCol    timeCol     \r\n",
       "------------------------------------------------------------\r\n",
       "1       4        b         \"bb\"      2018.11.23 00:01:00.000\r\n",
       "2       5        h         \"dd\"      2018.11.23 00:01:00.003\r\n"
      ]
     },
     "execution_count": 19,
     "metadata": {},
     "output_type": "execute_result"
    }
   ],
   "source": [
    "//Create a sample table\n",
    "tab:([] longCol:1 2;\n",
    "        floatCol:4 5f;\n",
    "        symbolCol:`b`h;\n",
    "        stringCol:(\"bb\";\"dd\");\n",
    "        dateCol:2018.11.23 2018.11.23;\n",
    "        timeCol:00:01:00.000 00:01:00.003)\n",
    "tab"
   ]
  },
  {
   "cell_type": "code",
   "execution_count": 20,
   "metadata": {},
   "outputs": [
    {
     "data": {
      "text/plain": [
       "c        | t f a\r\n",
       "---------| -----\r\n",
       "longCol  | j    \r\n",
       "floatCol | f    \r\n",
       "symbolCol| s    \r\n",
       "stringCol| C    \r\n",
       "dateCol  | d    \r\n",
       "timeCol  | t    \r\n"
      ]
     },
     "execution_count": 20,
     "metadata": {},
     "output_type": "execute_result"
    }
   ],
   "source": [
    "meta tab"
   ]
  },
  {
   "cell_type": "code",
   "execution_count": 21,
   "metadata": {},
   "outputs": [
    {
     "data": {
      "text/plain": [
       "longCol floatCol symbolCol stringCol dateCol      timeCol       \r\n",
       "----------------------------------------------------------------\r\n",
       "1       4        ,\"b\"      \"bb\"      \"2018-11-23\" \"00:01:00.000\"\r\n",
       "2       5        ,\"h\"      \"dd\"      \"2018-11-23\" \"00:01:00.003\"\r\n"
      ]
     },
     "execution_count": 21,
     "metadata": {},
     "output_type": "execute_result"
    },
    {
     "data": {
      "text/plain": [
       "c        | t f a\r\n",
       "---------| -----\r\n",
       "longCol  | f    \r\n",
       "floatCol | f    \r\n",
       "symbolCol| C    \r\n",
       "stringCol| C    \r\n",
       "dateCol  | C    \r\n",
       "timeCol  | C    \r\n"
      ]
     },
     "execution_count": 21,
     "metadata": {},
     "output_type": "execute_result"
    }
   ],
   "source": [
    "//Round trip to JSON results in many differences\n",
    ".j.k .j.j tab\n",
    "meta .j.k .j.j tab"
   ]
  },
  {
   "cell_type": "code",
   "execution_count": 22,
   "metadata": {},
   "outputs": [
    {
     "data": {
      "text/plain": [
       "longCol floatCol symbolCol stringCol dateCol    timeCol     \r\n",
       "------------------------------------------------------------\r\n",
       "1       4        b         \"bb\"      2018.11.23 00:01:00.000\r\n",
       "2       5        h         \"dd\"      2018.11.23 00:01:00.003\r\n"
      ]
     },
     "execution_count": 22,
     "metadata": {},
     "output_type": "execute_result"
    },
    {
     "data": {
      "text/plain": [
       "1b\r\n"
      ]
     },
     "execution_count": 22,
     "metadata": {},
     "output_type": "execute_result"
    }
   ],
   "source": [
    "//Use lower case casts on numerics and captial case tok on string type data\n",
    "//* will leave a column untouched\n",
    "flip \"jfS*DT\"$flip .j.k .j.j tab\n",
    "tab~flip \"jfS*DT\"$flip .j.k .j.j tab"
   ]
  },
  {
   "cell_type": "markdown",
   "metadata": {},
   "source": [
    "* [https://code.kx.com/q/ref/casting/#cast](https://code.kx.com/q/ref/casting/#cast)\n",
    "* [https://code.kx.com/q/ref/casting/#tok](https://code.kx.com/q/ref/casting/#tok)"
   ]
  },
  {
   "cell_type": "markdown",
   "metadata": {},
   "source": [
    "## Field based JSON encoding\n",
    "\n",
    "JSON can hold more complex data structures than csv\n",
    "\n",
    "One common example are dictionaries"
   ]
  },
  {
   "cell_type": "code",
   "execution_count": 23,
   "metadata": {},
   "outputs": [],
   "source": [
    "/sample.json:\n",
    "/\n",
    "{\"data\":\"26cd02c57f9db87b1df9f2e7bb20cc7b2c47e077ff5b0aa0866568bf5036bb65\",\"expiry\":1527796725,\"requestID\":[\"b4a566eb-2529-5cf4-1327-857e3d73653e\"]}\n",
    "{\"result\":\"success\",\"message\":\"success\",\"receipt\":[123154,4646646],\"requestID\":[\"b4a566eb-2529-5cf4-1327-857e3d73653e\"]}\n",
    "{\"receipt\":[12345678,98751466],\"requestID\":[\"b4a566eb-2529-5cf4-1327-857e3d73653e\"]}\n",
    "{\"data\":\"26cd02c57f9db87b1df9f2e7bb20cc7b2c47e077ff5b0aa0866568bf5036bb65\",\"requestID\":[\"b4a566eb-2529-5cf4-1327-857e3d73653e\"]}\n",
    "{\"receipt\":[12345678,98751466],\"requestID\":[\"b4a566eb-2529-5cf4-1327-857e3d73653e\"]}\n",
    "{\"listSize\":2,\"list\":\"lzplogjxokyetaeflilquziatzpjagsginnajfpbkomfancdmhmumxhazblddhccprlxtreageghmwtmyeyabavpbcksadnirgddymljslffrplcerdvhbvvshhmcpev\"}\n",
    "{\"requestID\":[\"b4a566eb-2529-5cf4-1327-857e3d73653e\"]}"
   ]
  },
  {
   "cell_type": "markdown",
   "metadata": {},
   "source": [
    "One way to manage these items may be to create a utility which will cast any dictionary using `key` values to control casting rules.\n",
    "\n",
    "This can allow more complex parsing rules for each field."
   ]
  },
  {
   "cell_type": "code",
   "execution_count": 24,
   "metadata": {},
   "outputs": [],
   "source": [
    "//Converts JSON to q with rules per key\n",
    "decode:{[j]k:.j.k j;(key k)!j2k[key k]@'value k}\n",
    "\n",
    "//Converts q to JSON with rules per key\n",
    "encode:{[k].j.j (key k)!k2j[key k]@'value k}\n",
    "\n",
    "//Rules for JSON to q conversion\n",
    "j2k:(enlist `)!enlist (::);\n",
    "\n",
    "j2k[`expiry]:{0D00:00:01*`long$x};\n",
    "j2k[`result]:`$;\n",
    "j2k[`receipt]:`long$;\n",
    "j2k[`id]:{\"G\"$first x};\n",
    "j2k[`listSize]:`long$;\n",
    "j2k[`data]:cut[64];\n",
    "j2k[`blockCount]:`long$;\n",
    "j2k[`blocks]:raze;\n",
    "\n",
    "//Rules for q to JSON conversion\n",
    "k2j:(enlist `)!enlist (::);\n",
    "\n",
    "k2j[`expiry]:{`long$%[x;0D00:00:01]};\n",
    "k2j[`result]:(::);\n",
    "k2j[`receipt]:(::);\n",
    "k2j[`id]:enlist;\n",
    "k2j[`listSize]:(::);\n",
    "k2j[`data]:raze;\n",
    "k2j[`blocks]:(::);"
   ]
  },
  {
   "cell_type": "code",
   "execution_count": 25,
   "metadata": {},
   "outputs": [
    {
     "name": "stdout",
     "output_type": "stream",
     "text": [
      "data     | \"26cd02c57f9db87b1df9f2e7bb20cc7b2c47e077ff5b0aa0866568bf5036bb65\"\r\n",
      "expiry   | 1.527797e+009\r\n",
      "requestID| ,\"b4a566eb-2529-5cf4-1327-857e3d73653e\"\r\n",
      "result   | \"success\"\r\n",
      "message  | \"success\"\r\n",
      "receipt  | 123154 4646646f\r\n",
      "requestID| ,\"b4a566eb-2529-5cf4-1327-857e3d73653e\"\r\n",
      "receipt  | 1.234568e+007 9.875147e+007\r\n",
      "requestID| ,\"b4a566eb-2529-5cf4-1327-857e3d73653e\"\r\n",
      "data     | \"26cd02c57f9db87b1df9f2e7bb20cc7b2c47e077ff5b0aa0866568bf5036bb65\"\r\n",
      "requestID| ,\"b4a566eb-2529-5cf4-1327-857e3d73653e\"\r\n",
      "receipt  | 1.234568e+007 9.875147e+007\r\n",
      "requestID| ,\"b4a566eb-2529-5cf4-1327-857e3d73653e\"\r\n",
      "listSize| 2f\r\n",
      "list    | \"lzplogjxokyetaeflilquziatzpjagsginnajfpbkomfancdmhmumxhazblddhccpr..\r\n",
      "requestID| \"b4a566eb-2529-5cf4-1327-857e3d73653e\"\r\n"
     ]
    }
   ],
   "source": [
    "//Using default .j.k our structures are not transferred as we wish\n",
    "{show .j.k x} each read0 `:sample.json;"
   ]
  },
  {
   "cell_type": "code",
   "execution_count": 26,
   "metadata": {},
   "outputs": [
    {
     "name": "stdout",
     "output_type": "stream",
     "text": [
      "data     | ,\"26cd02c57f9db87b1df9f2e7bb20cc7b2c47e077ff5b0aa0866568bf5036bb65\"\n",
      "expiry   | 17682D19:58:45.000000000\n",
      "requestID| ,\"b4a566eb-2529-5cf4-1327-857e3d73653e\"\n",
      "result   | `success\n",
      "message  | \"success\"\n",
      "receipt  | 123154 4646646\n",
      "requestID| ,\"b4a566eb-2529-5cf4-1327-857e3d73653e\"\n",
      "receipt  | 12345678 98751466\n",
      "requestID| ,\"b4a566eb-2529-5cf4-1327-857e3d73653e\"\n",
      "data     | \"26cd02c57f9db87b1df9f2e7bb20cc7b2c47e077ff5b0aa0866568bf5036bb65\"\n",
      "requestID| \"b4a566eb-2529-5cf4-1327-857e3d73653e\"                            \n",
      "receipt  | 12345678 98751466\n",
      "requestID| ,\"b4a566eb-2529-5cf4-1327-857e3d73653e\"\n",
      "listSize| 2\n",
      "list    | \"lzplogjxokyetaeflilquziatzpjagsginnajfpbkomfancdmhmumxhazblddhccpr..\n",
      "requestID| \"b4a566eb-2529-5cf4-1327-857e3d73653e\"\n"
     ]
    }
   ],
   "source": [
    "//Using decode utility captures complex structures\n",
    "{show decode x} each read0 `:sample.json;"
   ]
  },
  {
   "cell_type": "code",
   "execution_count": 27,
   "metadata": {},
   "outputs": [
    {
     "data": {
      "text/plain": [
       "1b\r\n"
      ]
     },
     "execution_count": 27,
     "metadata": {},
     "output_type": "execute_result"
    }
   ],
   "source": [
    "//The encode utility allows us to roundtrip\n",
    "{sample~{encode decode x} each sample:read0 x}`:sample.json"
   ]
  },
  {
   "cell_type": "markdown",
   "metadata": {},
   "source": [
    "## Querying unstructured data"
   ]
  },
  {
   "cell_type": "markdown",
   "metadata": {},
   "source": [
    "With the release of Anymap in kdb+ 3.6 unstructured data has become much easier to manage in kdb+.\n",
    "\n",
    "However, some considerations do need to be taken in to account.\n",
    "\n",
    "* [https://code.kx.com/q/ref/releases/ChangesIn3.6/#anymap](https://code.kx.com/q/ref/releases/ChangesIn3.6/#anymap)\n",
    "\n"
   ]
  },
  {
   "cell_type": "code",
   "execution_count": 28,
   "metadata": {},
   "outputs": [
    {
     "data": {
      "text/plain": [
       "data                                                                           \r\n",
       "-------------------------------------------------------------------------------\r\n",
       "`data`expiry`requestID!(,\"26cd02c57f9db87b1df9f2e7bb20cc7b2c47e077ff5b0aa0866..\r\n",
       "`result`message`receipt`requestID!(`success;\"success\";123154 4646646;,\"b4a566..\r\n",
       "`receipt`requestID!(12345678 98751466;,\"b4a566eb-2529-5cf4-1327-857e3d73653e\") \r\n",
       "`data`requestID!(,\"26cd02c57f9db87b1df9f2e7bb20cc7b2c47e077ff5b0aa0866568bf50..\r\n",
       "`receipt`requestID!(12345678 98751466;,\"b4a566eb-2529-5cf4-1327-857e3d73653e\") \r\n",
       "`listSize`list!(2;\"lzplogjxokyetaeflilquziatzpjagsginnajfpbkomfancdmhmumxhazb..\r\n",
       "(,`requestID)!,,\"b4a566eb-2529-5cf4-1327-857e3d73653e\"                         \r\n"
      ]
     },
     "execution_count": 28,
     "metadata": {},
     "output_type": "execute_result"
    }
   ],
   "source": [
    "sample:([] data:decode each read0 `:sample.json)\n",
    "sample"
   ]
  },
  {
   "cell_type": "markdown",
   "metadata": {},
   "source": [
    "Indexing at depth allows the sparse data within the dictionaries to be queried easily"
   ]
  },
  {
   "cell_type": "code",
   "execution_count": 29,
   "metadata": {},
   "outputs": [
    {
     "data": {
      "text/plain": [
       "x                                      \r\n",
       "---------------------------------------\r\n",
       ",\"b4a566eb-2529-5cf4-1327-857e3d73653e\"\r\n",
       ",\"b4a566eb-2529-5cf4-1327-857e3d73653e\"\r\n",
       ",\"b4a566eb-2529-5cf4-1327-857e3d73653e\"\r\n",
       ",\"b4a566eb-2529-5cf4-1327-857e3d73653e\"\r\n",
       ",\"b4a566eb-2529-5cf4-1327-857e3d73653e\"\r\n",
       "0N                                     \r\n",
       ",\"b4a566eb-2529-5cf4-1327-857e3d73653e\"\r\n"
      ]
     },
     "execution_count": 29,
     "metadata": {},
     "output_type": "execute_result"
    }
   ],
   "source": [
    "select data[;`requestID] from sample"
   ]
  },
  {
   "cell_type": "markdown",
   "metadata": {},
   "source": [
    "When a key is missing from a dictionary kdb+ will return a `null` value.\n",
    "\n",
    "The type of this null is determined by the type of the first key within the dictionary.\n",
    "\n",
    "This poses an issue."
   ]
  },
  {
   "cell_type": "code",
   "execution_count": 30,
   "metadata": {},
   "outputs": [
    {
     "data": {
      "text/plain": [
       "x                       \r\n",
       "------------------------\r\n",
       "17682D19:58:45.000000000\r\n",
       "`                       \r\n",
       "`long$()                \r\n",
       ",\"\"                     \r\n",
       "`long$()                \r\n",
       "0N                      \r\n",
       ",\"\"                     \r\n"
      ]
     },
     "execution_count": 30,
     "metadata": {},
     "output_type": "execute_result"
    }
   ],
   "source": [
    "//Many different nulls are returned\n",
    "select data[;`expiry] from sample"
   ]
  },
  {
   "cell_type": "code",
   "execution_count": 30,
   "metadata": {},
   "outputs": [
    {
     "data": {
      "text/plain": [
       "data                                                                           \r\n",
       "-------------------------------------------------------------------------------\r\n",
       "`result`message`receipt`requestID!(`success;\"success\";123154 4646646;,\"b4a566..\r\n"
      ]
     },
     "execution_count": 31,
     "metadata": {},
     "output_type": "execute_result"
    },
    {
     "ename": "\u001b[0;31mtype\u001b[0m",
     "evalue": "\u001b[0;31mtype\u001b[0m",
     "output_type": "error",
     "traceback": [
      "\u001b[0;31mevaluation error:\n\u001b[0m",
      "\u001b[0;31mtype\u001b[0m",
      "\u001b[0;31m\u001b[0m",
      "\u001b[0;31m  [0]  select from (3#sample) where null data[;`expiry]\r\n       ^\r\n\u001b[0m"
     ]
    }
   ],
   "source": [
    "//Succeds on first 2 rows as by chance only null returned in a atom null\n",
    "select from (2#sample) where null data[;`expiry]\n",
    "//Fails once moving to 3 rows as there is an empty list null\n",
    "select from (3#sample) where null data[;`expiry]"
   ]
  },
  {
   "cell_type": "markdown",
   "metadata": {},
   "source": [
    "Checking if a given key in in the rows dictionary will only return rows which do not have the key"
   ]
  },
  {
   "cell_type": "code",
   "execution_count": 31,
   "metadata": {},
   "outputs": [
    {
     "data": {
      "text/plain": [
       "data                                                                           \r\n",
       "-------------------------------------------------------------------------------\r\n",
       "`data`expiry`requestID!(,\"26cd02c57f9db87b1df9f2e7bb20cc7b2c47e077ff5b0aa0866..\r\n"
      ]
     },
     "execution_count": 31,
     "metadata": {},
     "output_type": "execute_result"
    }
   ],
   "source": [
    "select from sample where `expiry in/:key each data, not null data[;`expiry]"
   ]
  },
  {
   "cell_type": "markdown",
   "metadata": {},
   "source": [
    "If we prepend each dictionary with the null symbol key ``` and generic null value `(::)` we now can query in a more free manner."
   ]
  },
  {
   "cell_type": "code",
   "execution_count": 32,
   "metadata": {},
   "outputs": [
    {
     "data": {
      "text/plain": [
       "`sample\r\n"
      ]
     },
     "execution_count": 32,
     "metadata": {},
     "output_type": "execute_result"
    },
    {
     "data": {
      "text/plain": [
       "data                                                                           \r\n",
       "-------------------------------------------------------------------------------\r\n",
       "``data`expiry`requestID!(::;,\"26cd02c57f9db87b1df9f2e7bb20cc7b2c47e077ff5b0aa..\r\n",
       "``result`message`receipt`requestID!(::;`success;\"success\";123154 4646646;,\"b4..\r\n",
       "``receipt`requestID!(::;12345678 98751466;,\"b4a566eb-2529-5cf4-1327-857e3d736..\r\n",
       "``data`requestID!(::;,\"26cd02c57f9db87b1df9f2e7bb20cc7b2c47e077ff5b0aa0866568..\r\n",
       "``receipt`requestID!(::;12345678 98751466;,\"b4a566eb-2529-5cf4-1327-857e3d736..\r\n",
       "``listSize`list!(::;2;\"lzplogjxokyetaeflilquziatzpjagsginnajfpbkomfancdmhmumx..\r\n",
       "``requestID!(::;,\"b4a566eb-2529-5cf4-1327-857e3d73653e\")                       \r\n"
      ]
     },
     "execution_count": 32,
     "metadata": {},
     "output_type": "execute_result"
    }
   ],
   "source": [
    "update data:(enlist[`]!enlist (::))(,)/:data from `sample\n",
    "sample"
   ]
  },
  {
   "cell_type": "markdown",
   "metadata": {},
   "source": [
    "All nulls when a given key is missing are now `(::)`"
   ]
  },
  {
   "cell_type": "code",
   "execution_count": 33,
   "metadata": {},
   "outputs": [
    {
     "data": {
      "text/plain": [
       "x                       \r\n",
       "------------------------\r\n",
       "17682D19:58:45.000000000\r\n",
       "::                      \r\n",
       "::                      \r\n",
       "::                      \r\n",
       "::                      \r\n",
       "::                      \r\n",
       "::                      \r\n"
      ]
     },
     "execution_count": 33,
     "metadata": {},
     "output_type": "execute_result"
    }
   ],
   "source": [
    "select data[;`expiry] from sample"
   ]
  },
  {
   "cell_type": "markdown",
   "metadata": {},
   "source": [
    "The previously failing query can now execute as there are no list type nulls"
   ]
  },
  {
   "cell_type": "code",
   "execution_count": 34,
   "metadata": {},
   "outputs": [
    {
     "data": {
      "text/plain": [
       "data                                                                           \r\n",
       "-------------------------------------------------------------------------------\r\n",
       "``data`expiry`requestID!(::;,\"26cd02c57f9db87b1df9f2e7bb20cc7b2c47e077ff5b0aa..\r\n"
      ]
     },
     "execution_count": 34,
     "metadata": {},
     "output_type": "execute_result"
    }
   ],
   "source": [
    "select from sample where not null data[;`expiry]"
   ]
  },
  {
   "cell_type": "code",
   "execution_count": 35,
   "metadata": {},
   "outputs": [],
   "source": [
    "//ToDo: Named pipes"
   ]
  }
 ],
 "metadata": {
  "kernelspec": {
   "display_name": "Q (kdb+)",
   "language": "q",
   "name": "qpk"
  },
  "language_info": {
   "file_extension": ".q",
   "mimetype": "text/x-q",
   "name": "q",
   "version": "3.6.0"
  },
  "toc": {
   "base_numbering": 1,
   "nav_menu": {},
   "number_sections": true,
   "sideBar": true,
   "skip_h1_title": false,
   "title_cell": "Table of Contents",
   "title_sidebar": "Contents",
   "toc_cell": false,
   "toc_position": {},
   "toc_section_display": true,
   "toc_window_display": false
  }
 },
 "nbformat": 4,
 "nbformat_minor": 2
}
